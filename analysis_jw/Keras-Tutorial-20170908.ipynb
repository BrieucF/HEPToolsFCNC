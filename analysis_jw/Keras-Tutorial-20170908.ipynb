{
 "cells": [
  {
   "cell_type": "markdown",
   "metadata": {
    "ein.tags": "worksheet-0",
    "slideshow": {
     "slide_type": "-"
    }
   },
   "source": [
    "![Keras](keras-logo-small-wb.png)\n",
    "# Keras Tutorial\n",
    "by Ian J. Watson, University of Seoul\n",
    "\n",
    "ian.james.watson@cern.ch\n"
   ]
  },
  {
   "cell_type": "markdown",
   "metadata": {
    "ein.tags": "worksheet-0",
    "slideshow": {
     "slide_type": "-"
    }
   },
   "source": [
    "## Installing Jupyter\n",
    "\n",
    "You can install jupyter with\n",
    "\n",
    "`pip install jupyter`\n",
    "\n",
    "then start by running\n",
    "\n",
    "`jupyter notebook`\n",
    "\n",
    "then you can follow along in the browser interface that opens up.\n",
    "\n",
    "For more information, see e.g. https://jupyter-notebook-beginner-guide.readthedocs.io/en/latest/\n",
    "\n",
    "## This notebook\n",
    "\n",
    "This notebook should run top to bottom as is. It pulls any required\n",
    "datasets using the helpful functions that keras provides. With python\n",
    "and pip installed, you can pull the dependencies by pip installing (you \n",
    "might need to add `--user` to the end of the command lines):\n",
    "\n",
    "```\n",
    "pip install matplotlib\n",
    "pip install keras\n",
    "pip install tensorflow # Pulls in the CPU version of tensorflow\n",
    "pip install seaborn # For downloading viewing the iris dataset\n",
    "pip install scikit-learn\n",
    "pip install h5py\n",
    "```\n",
    "\n",
    "This can be done inside jupyter. A `!` before a line tells jupyter to\n",
    "treat the line as a shell command\n",
    "\n",
    "### Resources:\n",
    "\n",
    "Keras documentation:\n",
    "http://keras.io/\n",
    "\n",
    "Large repository of various tutorials, examples, and applications\n",
    "curated by the original author of Keras.\n",
    "https://github.com/fchollet/keras-resources\n",
    "\n",
    "Another tutorial presentation:\n",
    "https://uwaterloo.ca/data-science/sites/ca.data-science/files/uploads/files/keras_tutorial.pdf\n"
   ]
  },
  {
   "cell_type": "markdown",
   "metadata": {
    "ein.tags": "worksheet-0",
    "slideshow": {
     "slide_type": "-"
    }
   },
   "source": [
    "## Keras\n",
    "\n",
    "- Deep learning framework built by Google engineer François Chollet\n",
    "- High-level interface built allowing Theano or Tensorflow as a backend\n",
    "- Library written in python, user-friendly interface\n",
    "- Easy to get started building networks\n",
    "- Highly modular and easily expandable\n",
    "  - Can drop down into the underlying library when complex/bespoke operations\n",
    "    are needed\n",
    "- Quickly build and train serious models\n",
    "\n",
    "## Installation\n",
    "\n",
    "`pip install keras`\n",
    "\n",
    "- Installs keras with Theano\n",
    "- To use theano, need to setup theano in `~/.keras/keras.json`, e.g.\n",
    "\n",
    "```\n",
    "{\n",
    "    \"epsilon\": 1e-07, \n",
    "    \"floatx\": \"float32\", \n",
    "    \"image_data_format\": \"channels_last\", \n",
    "    \"backend\": \"theano\" \n",
    "}\n",
    "```\n",
    "\n",
    "- For tensorflow `pip install tensorflow`\n",
    "- Installs CPU version of tensorflow, change \"backend\" to \"tensorflow\" in JSON\n",
    "  - For GPU, can be as simple as \"pip install tensorflow-gpu\" or may\n",
    "    need to build yourself, dependending on OS/GPU combo\n"
   ]
  },
  {
   "cell_type": "code",
   "execution_count": 5,
   "metadata": {
    "autoscroll": false,
    "collapsed": false,
    "ein.tags": "worksheet-0",
    "slideshow": {
     "slide_type": "-"
    }
   },
   "outputs": [
    {
     "name": "stdout",
     "output_type": "stream",
     "text": [
      "Collecting h5py\n",
      "  Downloading h5py-2.7.1-cp27-cp27m-macosx_10_6_intel.macosx_10_9_intel.macosx_10_9_x86_64.macosx_10_10_intel.macosx_10_10_x86_64.whl (4.7MB)\n",
      "\u001b[K    100% |################################| 4.7MB 281kB/s eta 0:00:01\n",
      "\u001b[?25hRequirement already satisfied: numpy>=1.7 in /usr/local/lib/python2.7/site-packages (from h5py)\n",
      "Requirement already satisfied: six in /usr/local/lib/python2.7/site-packages (from h5py)\n",
      "Installing collected packages: h5py\n",
      "Successfully installed h5py-2.7.1\n"
     ]
    }
   ],
   "source": [
    "!pip2 install h5py"
   ]
  },
  {
   "cell_type": "code",
   "execution_count": 1,
   "metadata": {
    "autoscroll": false,
    "collapsed": false,
    "ein.tags": "worksheet-0",
    "slideshow": {
     "slide_type": "-"
    }
   },
   "outputs": [
    {
     "name": "stderr",
     "output_type": "stream",
     "text": [
      "Using TensorFlow backend.\n",
      "/usr/local/lib/python2.7/site-packages/sklearn/cross_validation.py:41: DeprecationWarning: This module was deprecated in version 0.18 in favor of the model_selection module into which all the refactored classes and functions are moved. Also note that the interface of the new CV iterators are different from that of this module. This module will be removed in 0.20.\n",
      "  \"This module will be removed in 0.20.\", DeprecationWarning)\n"
     ]
    }
   ],
   "source": [
    "%matplotlib inline\n",
    "\n",
    "# import pydot\n",
    "import h5py\n",
    "import os\n",
    "import keras\n",
    "from keras.models import Sequential\n",
    "from keras.layers import Dense, Activation, Flatten, Conv2D, Dropout, Reshape, UpSampling2D, BatchNormalization, MaxPooling2D\n",
    "from keras.optimizers import SGD\n",
    "import matplotlib.pyplot as plt\n",
    "import seaborn as sns\n",
    "import sklearn.cross_validation as scv\n",
    "import sklearn\n",
    "import numpy as np"
   ]
  },
  {
   "cell_type": "markdown",
   "metadata": {
    "ein.tags": "worksheet-0",
    "slideshow": {
     "slide_type": "-"
    }
   },
   "source": [
    "# The iris dataset and a basic network with Keras\n",
    "\n",
    "- The iris dataset is a classic classification task, first studied by\n",
    "  Fisher in 1936. \n",
    "- The goal is, given features measured from a particular\n",
    "  iris, classify it into one of three species\n",
    "  - Iris setosa, virginica, versicolor. \n",
    "- The variables are: Sepal width and length, petal width and length (all in cm).\n",
    "\n",
    "![Iris variables](iris_petal_sepal.png)\n"
   ]
  },
  {
   "cell_type": "markdown",
   "metadata": {
    "ein.tags": "worksheet-0",
    "slideshow": {
     "slide_type": "-"
    }
   },
   "source": [
    "We begin by loading the iris dataset, helpfully available from the\n",
    "seaborn pacakge, which also lets us create plots showing the\n",
    "correlations between the variables."
   ]
  },
  {
   "cell_type": "code",
   "execution_count": 2,
   "metadata": {
    "autoscroll": false,
    "collapsed": false,
    "ein.tags": "worksheet-0",
    "slideshow": {
     "slide_type": "-"
    }
   },
   "outputs": [
    {
     "data": {
      "text/plain": [
       "   sepal_length  sepal_width  petal_length  petal_width species\n",
       "0           5.1          3.5           1.4          0.2  setosa\n",
       "1           4.9          3.0           1.4          0.2  setosa\n",
       "2           4.7          3.2           1.3          0.2  setosa\n",
       "3           4.6          3.1           1.5          0.2  setosa\n",
       "4           5.0          3.6           1.4          0.2  setosa"
      ]
     },
     "execution_count": 2,
     "metadata": {},
     "output_type": "execute_result"
    }
   ],
   "source": [
    "iris = sns.load_dataset(\"iris\")\n",
    "iris.head()"
   ]
  },
  {
   "cell_type": "markdown",
   "metadata": {
    "ein.tags": "worksheet-0",
    "slideshow": {
     "slide_type": "-"
    }
   },
   "source": [
    "Lets view the basic variables we have. Setosa (blue) looks easily separable by the petal length and width, but versicolor and virginica are a little tricky."
   ]
  },
  {
   "cell_type": "code",
   "execution_count": 3,
   "metadata": {
    "autoscroll": false,
    "collapsed": false,
    "ein.tags": "worksheet-0",
    "slideshow": {
     "slide_type": "-"
    }
   },
   "outputs": [
    {
     "data": {
      "image/png": "[encoded data removed]",
      "text/plain": [
       "<matplotlib.figure.Figure at 0x1197013d0>"
      ]
     },
     "metadata": {},
     "output_type": "display_data"
    }
   ],
   "source": [
    "plot = sns.pairplot(iris, hue=\"species\")\n",
    "plot.savefig('iris.png')"
   ]
  },
  {
   "cell_type": "markdown",
   "metadata": {
    "ein.tags": "worksheet-0",
    "slideshow": {
     "slide_type": "-"
    }
   },
   "source": [
    "##  A Keras Network\n",
    "\n",
    "In order to classify the irises, we'll build a simple network in Keras.\n",
    "\n",
    "- The basic network type in Keras is the Sequential model. \n",
    "- The Sequential model builds a neural network by stacking layers \n",
    "  - Keras also has a Graph model that allows arbitrary connections\n",
    "- It builds up like lego, adding one layer on top of another and \n",
    "  connecting between the layers\n",
    "  - Keras comes with a menagerie of pre-built layers for you to use.\n",
    "- Interface to/from the model with numpy arrays\n",
    "\n",
    "![Neural network](nn-1a.png)\n",
    "\n",
    "- Our model will be a simple NN with a single hidden layer before the output\n",
    "- We start by building a Sequential model and add a Dense (fully-connected) layer, with sigmoid activation\n",
    "- Dense: standard layer where all inputs $\\hat{x}$ connect to all outputs $\\hat{y}$: $\\hat{y} = W\\hat{x} + \\hat{b}$\n",
    "  - `keras.layers.Dense(output_dim)`\n",
    "  - Can also set the initalization, add an activation layer inline, add regularizers inline, etc.\n",
    "- Activation: essentially acts as a switch for a given node, turns output on/off based on threshold\n",
    "  - `keras.layers.Activation(type)`\n",
    "    - Where type might be:\n",
    "  - `'sigmoid`: $f(x) = \\frac{1}{1 + e^{-x}}$\n",
    "  - `'tanh`: $f(x) = \\tanh{x} = \\frac{e^x - e^{-x}}{e^x + e^{-x}}$\n",
    "  - `'relu`: $f(x) = \\mathrm{max}(0, x)$, 'rectified linear unit'\n",
    "  - `'softplus`: $f(x) =  \\ln{(1 + e^x)}$, smooth approx. to `'relu`\n",
    "  - `'softmax`: $f_k(x) = \\frac{e^{-x_k}}{\\sum_i e^{-x_i}}$ for the $k$'th output, as last layer of categorical dsitribution, represents a probability distribution over the outputs"
   ]
  },
  {
   "cell_type": "code",
   "execution_count": 4,
   "metadata": {
    "autoscroll": false,
    "collapsed": false,
    "ein.tags": "worksheet-0",
    "slideshow": {
     "slide_type": "-"
    }
   },
   "outputs": [],
   "source": [
    "# Build a model\n",
    "model = Sequential()\n",
    "\n",
    "model.add(Dense(128, input_shape=(4,)))\n",
    "model.add(Activation('sigmoid'))\n",
    "# model.add(Dense(128))\n",
    "# model.add(Activation('sigmoid'))\n",
    "model.add(Dense(3))\n",
    "model.add(Activation('softmax'))\n",
    "\n",
    "model.compile(optimizer='adam', loss='categorical_crossentropy', metrics=['accuracy'])"
   ]
  },
  {
   "cell_type": "markdown",
   "metadata": {
    "autoscroll": false,
    "ein.tags": "worksheet-0",
    "slideshow": {
     "slide_type": "-"
    }
   },
   "source": [
    "Notice that we build the model by `add`ing and keras takes care of the\n",
    "details of input and output sizes of the layer when it can. We than\n",
    "pass through a Dense layer of output size 3 and a softmax\n",
    "activation. This will output the network probability for each of the\n",
    "potential iris classes as a numpy array `(nsamples, (` $p_{setosa}$, $p_{virginica}$, $p_{versicolor}$ `))`.\n",
    "\n",
    "We `compile` the model with an optimizer and a loss function to\n",
    "minimize which will allow it to be trained on labelled data, and we\n",
    "can tell the model to evaluate auxilliary metrics, such as the\n",
    "accuracy of the model. Keras takes care of automatically calculating\n",
    "derivates through the network and running the backpropagation\n",
    "algorithm to update the model parameter. We can also pass the\n",
    "functions directly to tune the hyperparameters, e.g.:\n",
    "```model.compile(loss=keras.losses.mean_squared_error,\n",
    "optimizer=keras.optimizers.SGD(lr=0.0005, momentum=0.9,\n",
    "nesterov=True))```\n",
    "\n",
    "Here we used the adam optimizer which automatically updates the step\n",
    "sizes used for parameter optimization, with a categorical\n",
    "cross-entropy loss, which measures $-\\sum_{i} t_i\\log{p_i}$ where\n",
    "$t_i$ is 1 for the true label and $p_i$ is the probability of the\n",
    "$i$th label assigned by the model. As the model assigns higher\n",
    "probability to the correct label, the cross-entropy goes to 0.\n",
    "\n",
    "Other options to consider:\n",
    "- Activation: sigmoid, softmax, linear, tanh, relu, ...\n",
    "- Optimizer: SGD, RMSprop, Adagrad, Adadelta, Adam, ...\n",
    "- Loss: categorical_crossentropy, binary_crossentropy, mean_squared_error, ...\n",
    "\n",
    "ReLU|sigmoid|tanh|softplus\n",
    "-|-\n",
    "![ReLU](code/relu.png) | ![sigmoid](code/sigmoid.png) | ![t](code/tanh.png) | ![softplus](code/softplus.png)\n"
   ]
  },
  {
   "cell_type": "code",
   "execution_count": 6,
   "metadata": {
    "autoscroll": false,
    "collapsed": false,
    "ein.tags": "worksheet-0",
    "slideshow": {
     "slide_type": "-"
    }
   },
   "outputs": [],
   "source": [
    "# If pydot is installed we can output a picture of the network\n",
    "# keras.utils.plot_model(model, to_file='iris_model.png')"
   ]
  },
  {
   "cell_type": "markdown",
   "metadata": {
    "ein.tags": "worksheet-0",
    "slideshow": {
     "slide_type": "-"
    }
   },
   "source": [
    "![model](iris_model.png)"
   ]
  },
  {
   "cell_type": "markdown",
   "metadata": {
    "ein.tags": "worksheet-0",
    "slideshow": {
     "slide_type": "-"
    }
   },
   "source": [
    "Now we fit to the training data. We can set the number of epochs\n",
    "(number of training passes through the complete dataset), batch sizes\n",
    "(number of datapoints to consider together when updating the network),\n",
    "and verbosity. We pass through the input data as a numpy array\n",
    "(nsamples, 4) and the output (nsamples, 3) where for each sample one\n",
    "of the positions is 1, corresponding to the correct class. We use the\n",
    "LabelBinarizer to help us transform the raw species information (which\n",
    "labels classes setosa, virginica, versicolor) to the expected format\n",
    "(which is (1, 0, 0), (0, 1, 0), (0, 0, 1)).\n",
    "\n",
    "We fit the model to a labelled dataset simply by calling `fit` with\n",
    "the dataset `train_X` and the true labels `train_y`."
   ]
  },
  {
   "cell_type": "code",
   "execution_count": 12,
   "metadata": {
    "autoscroll": false,
    "collapsed": false,
    "ein.tags": "worksheet-0",
    "slideshow": {
     "slide_type": "-"
    }
   },
   "outputs": [
    {
     "name": "stdout",
     "output_type": "stream",
     "text": [
      "[5.1 3.5 1.4 0.2] setosa [1 0 0]\n",
      "Epoch 1/15\n",
      "120/120 [==============================] - 0s - loss: 0.0966 - acc: 0.9667     \n",
      "Epoch 2/15\n",
      "120/120 [==============================] - 0s - loss: 0.0902 - acc: 0.9750     \n",
      "Epoch 3/15\n",
      "120/120 [==============================] - 0s - loss: 0.0918 - acc: 0.9833     \n",
      "Epoch 4/15\n",
      "120/120 [==============================] - 0s - loss: 0.0919 - acc: 0.9750     \n",
      "Epoch 5/15\n",
      "120/120 [==============================] - 0s - loss: 0.0996 - acc: 0.9667     \n",
      "Epoch 6/15\n",
      "120/120 [==============================] - 0s - loss: 0.0881 - acc: 0.9750     \n",
      "Epoch 7/15\n",
      "120/120 [==============================] - 0s - loss: 0.0845 - acc: 0.9583     \n",
      "Epoch 8/15\n",
      "120/120 [==============================] - 0s - loss: 0.1003 - acc: 0.9583     \n",
      "Epoch 9/15\n",
      "120/120 [==============================] - 0s - loss: 0.0819 - acc: 0.9750      \n",
      "Epoch 10/15\n",
      "120/120 [==============================] - 0s - loss: 0.0880 - acc: 0.9583     \n",
      "Epoch 11/15\n",
      "120/120 [==============================] - 0s - loss: 0.0846 - acc: 0.9583     \n",
      "Epoch 12/15\n",
      "120/120 [==============================] - 0s - loss: 0.0877 - acc: 0.9583     \n",
      "Epoch 13/15\n",
      "120/120 [==============================] - 0s - loss: 0.0882 - acc: 0.9667     \n",
      "Epoch 14/15\n",
      "120/120 [==============================] - 0s - loss: 0.0794 - acc: 0.9667      \n",
      "Epoch 15/15\n",
      "120/120 [==============================] - 0s - loss: 0.0843 - acc: 0.9583     \n"
     ]
    },
    {
     "data": {
      "text/plain": [
       "<keras.callbacks.History at 0x11b120f90>"
      ]
     },
     "execution_count": 12,
     "metadata": {},
     "output_type": "execute_result"
    }
   ],
   "source": [
    "variables = iris.values[:, :4]\n",
    "species = iris.values[:, 4]\n",
    "\n",
    "b = sklearn.preprocessing.LabelBinarizer()\n",
    "species_enc = b.fit_transform(species)\n",
    "\n",
    "# we are simply passing numpy arrays of the data\n",
    "print variables[0], species[0], species_enc[0]\n",
    "\n",
    "train_X, test_X, train_y, test_y = scv.train_test_split(variables, species_enc, train_size=0.8, random_state=0)\n",
    "\n",
    "model.fit(train_X, train_y, epochs=15, batch_size=1, verbose=1)"
   ]
  },
  {
   "cell_type": "markdown",
   "metadata": {
    "ein.tags": "worksheet-0",
    "slideshow": {
     "slide_type": "-"
    }
   },
   "source": [
    "After running the model, we can `evaluate` how well it works on the\n",
    "labelled test data we kept aside for overfitting evaluation purposes."
   ]
  },
  {
   "cell_type": "code",
   "execution_count": 10,
   "metadata": {
    "autoscroll": false,
    "collapsed": false,
    "ein.tags": "worksheet-0",
    "slideshow": {
     "slide_type": "-"
    }
   },
   "outputs": [
    {
     "name": "stdout",
     "output_type": "stream",
     "text": [
      "Loss=0.11\n",
      "Accuracy = 0.97\n"
     ]
    }
   ],
   "source": [
    "loss, accuracy = model.evaluate(test_X, test_y, verbose=0)\n",
    "print(\"Loss={:.2f}\\nAccuracy = {:.2f}\".format(loss, accuracy))"
   ]
  },
  {
   "cell_type": "code",
   "execution_count": null,
   "metadata": {
    "autoscroll": false,
    "collapsed": false,
    "ein.tags": "worksheet-0",
    "slideshow": {
     "slide_type": "-"
    }
   },
   "outputs": [],
   "source": [
    "Or simply ask the model to `predict` some unlablled data"
   ]
  },
  {
   "cell_type": "code",
   "execution_count": 13,
   "metadata": {
    "autoscroll": false,
    "collapsed": false,
    "ein.tags": "worksheet-0",
    "slideshow": {
     "slide_type": "-"
    }
   },
   "outputs": [
    {
     "data": {
      "text/plain": [
       "(array([[0, 0, 1],\n",
       "        [0, 1, 0],\n",
       "        [1, 0, 0],\n",
       "        [0, 0, 1],\n",
       "        [1, 0, 0],\n",
       "        [0, 0, 1],\n",
       "        [1, 0, 0],\n",
       "        [0, 1, 0],\n",
       "        [0, 1, 0],\n",
       "        [0, 1, 0]]),\n",
       " array([[  9.14478626e-09,   6.44288119e-03,   9.93557155e-01],\n",
       "        [  1.09449355e-03,   9.96685088e-01,   2.22038059e-03],\n",
       "        [  9.99800265e-01,   1.99748174e-04,   5.33562518e-16],\n",
       "        [  3.05008996e-08,   1.53383622e-02,   9.84661639e-01],\n",
       "        [  9.98722374e-01,   1.27757352e-03,   3.03475405e-14],\n",
       "        [  9.62891211e-10,   1.44368445e-03,   9.98556316e-01],\n",
       "        [  9.99066532e-01,   9.33445350e-04,   1.60832346e-14],\n",
       "        [  2.79232336e-04,   9.59775329e-01,   3.99454497e-02],\n",
       "        [  1.56025606e-04,   9.37432587e-01,   6.24113604e-02],\n",
       "        [  1.60889025e-03,   9.95693266e-01,   2.69778073e-03]], dtype=float32),\n",
       " 30,\n",
       " 30)"
      ]
     },
     "execution_count": 13,
     "metadata": {},
     "output_type": "execute_result"
    }
   ],
   "source": [
    "pred_y = model.predict(test_X)\n",
    "test_y[:10], pred_y[:10], len(test_y), len(test_X)"
   ]
  },
  {
   "cell_type": "markdown",
   "metadata": {
    "ein.tags": "worksheet-0",
    "slideshow": {
     "slide_type": "-"
    }
   },
   "source": [
    "# MNIST digit recognition and Convolutional Networks\n",
    "\n",
    "- Another, more recent, classic classification task. \n",
    "- Given a 28x28 image of a handwritten digit, can you train a classifier to recognize the\n",
    "  numbers from 0 to 9?\n",
    "\n",
    "Keras has the ability to download the dataset and parse it into numpy\n",
    "arrays. We use the `LabelBinarizer` from `sklearn` to transform \n",
    "\n",
    "```0, 1, 2, 3,...``` \n",
    "\n",
    "into \n",
    "\n",
    "```[1, 0, 0, 0, 0, 0, 0, 0, 0, 0], [0, 1, 0, 0, 0, 0, 0, 0, 0, 0], ...```\n",
    "\n",
    "which is a from again suitable for using a\n",
    "categorical_crossentropy loss function in Keras."
   ]
  },
  {
   "cell_type": "code",
   "execution_count": 14,
   "metadata": {
    "autoscroll": false,
    "collapsed": false,
    "ein.tags": "worksheet-0",
    "slideshow": {
     "slide_type": "-"
    }
   },
   "outputs": [],
   "source": [
    "(x_train, y_train), (x_test, y_test) = keras.datasets.mnist.load_data()"
   ]
  },
  {
   "cell_type": "code",
   "execution_count": 15,
   "metadata": {
    "autoscroll": false,
    "collapsed": false,
    "ein.tags": "worksheet-0",
    "slideshow": {
     "slide_type": "-"
    }
   },
   "outputs": [
    {
     "name": "stdout",
     "output_type": "stream",
     "text": [
      "[5 0 4 1 9]\n"
     ]
    },
    {
     "data": {
      "text/plain": [
       "array([[0, 0, 0, 0, 0, 1, 0, 0, 0, 0],\n",
       "       [1, 0, 0, 0, 0, 0, 0, 0, 0, 0],\n",
       "       [0, 0, 0, 0, 1, 0, 0, 0, 0, 0],\n",
       "       [0, 1, 0, 0, 0, 0, 0, 0, 0, 0],\n",
       "       [0, 0, 0, 0, 0, 0, 0, 0, 0, 1]])"
      ]
     },
     "execution_count": 15,
     "metadata": {},
     "output_type": "execute_result"
    }
   ],
   "source": [
    "print(y_train[:5])\n",
    "b = sklearn.preprocessing.LabelBinarizer()\n",
    "y_train_enc = b.fit_transform(y_train)\n",
    "y_test_enc = b.fit_transform(y_test)\n",
    "y_train_enc[:5]"
   ]
  },
  {
   "cell_type": "code",
   "execution_count": 17,
   "metadata": {
    "autoscroll": false,
    "collapsed": false,
    "ein.tags": "worksheet-0",
    "slideshow": {
     "slide_type": "-"
    }
   },
   "outputs": [
    {
     "name": "stdout",
     "output_type": "stream",
     "text": [
      "(60000, 28, 28) (60000, 10)\n"
     ]
    },
    {
     "data": {
      "image/png": "[encoded data removed]",
      "text/plain": [
       "<matplotlib.figure.Figure at 0x11f1eeb50>"
      ]
     },
     "metadata": {},
     "output_type": "display_data"
    }
   ],
   "source": [
    "print x_train.shape, y_train_enc.shape\n",
    "for i in range(5):\n",
    "    plt.subplot(1,5,i+1)\n",
    "    plt.imshow(x_train[i], cmap='gray')"
   ]
  },
  {
   "cell_type": "markdown",
   "metadata": {
    "ein.tags": "worksheet-0",
    "slideshow": {
     "slide_type": "-"
    }
   },
   "source": [
    "- We can start by simply trying a basic neural network as before. \n",
    "- `Flatten` takes the 2D input and concatenates the rows together to a 1D form suitable for passing to a `Dense` layer."
   ]
  },
  {
   "cell_type": "code",
   "execution_count": 18,
   "metadata": {
    "autoscroll": false,
    "collapsed": false,
    "ein.tags": "worksheet-0",
    "slideshow": {
     "slide_type": "-"
    }
   },
   "outputs": [],
   "source": [
    "model = Sequential()\n",
    "model.add(Flatten(input_shape=(28,28)))\n",
    "model.add(Dense(128))\n",
    "model.add(Activation('sigmoid'))\n",
    "model.add(Dense(128))\n",
    "model.add(Activation('sigmoid'))\n",
    "model.add(Dense(10))\n",
    "model.add(Activation('softmax'))\n",
    "\n",
    "model.compile(optimizer='adam', loss='categorical_crossentropy', metrics=['accuracy'])"
   ]
  },
  {
   "cell_type": "code",
   "execution_count": 19,
   "metadata": {
    "autoscroll": false,
    "collapsed": false,
    "ein.tags": "worksheet-0",
    "slideshow": {
     "slide_type": "-"
    }
   },
   "outputs": [
    {
     "name": "stdout",
     "output_type": "stream",
     "text": [
      "Epoch 1/3\n",
      "60000/60000 [==============================] - 6s - loss: 0.5453 - acc: 0.8529     \n",
      "Epoch 2/3\n",
      "60000/60000 [==============================] - 6s - loss: 0.3478 - acc: 0.8946     \n",
      "Epoch 3/3\n",
      "60000/60000 [==============================] - 6s - loss: 0.3113 - acc: 0.9051     \n"
     ]
    },
    {
     "data": {
      "text/plain": [
       "<keras.callbacks.History at 0x11f34aed0>"
      ]
     },
     "execution_count": 19,
     "metadata": {},
     "output_type": "execute_result"
    }
   ],
   "source": [
    "model.fit(x_train, y_train_enc, epochs=3, verbose=1)"
   ]
  },
  {
   "cell_type": "code",
   "execution_count": 20,
   "metadata": {
    "autoscroll": false,
    "collapsed": false,
    "ein.tags": "worksheet-0",
    "slideshow": {
     "slide_type": "-"
    }
   },
   "outputs": [
    {
     "name": "stdout",
     "output_type": "stream",
     "text": [
      "Loss=0.31\n",
      "Accuracy = 0.90\n"
     ]
    }
   ],
   "source": [
    "loss, accuracy = model.evaluate(x_test, y_test_enc, verbose=0)\n",
    "print(\"Loss={:.2f}\\nAccuracy = {:.2f}\".format(loss, accuracy))"
   ]
  },
  {
   "cell_type": "markdown",
   "metadata": {
    "ein.tags": "worksheet-0",
    "slideshow": {
     "slide_type": "-"
    }
   },
   "source": [
    "## A Convolutional Network\n",
    "\n",
    "![Convolutional layer](convolve.png)\n",
    "\n",
    "- One of the great advances in image classification in recent times is the development of the convolutional layer. \n",
    "- We have some filter kernel `K` of size `n x m` which we apply to every `n x m` cell on the original image to create a new filtered image. \n",
    "- It has been seen that applying these in multiple layers of a network can build up multiple levels of abstraction to classify higher-level features.\n",
    "\n",
    "![Many layers](NN_conv.png)\n",
    "\n",
    "Reference: http://www.wildml.com/2015/11/understanding-convolutional-neural-networks-for-nlp/"
   ]
  },
  {
   "cell_type": "markdown",
   "metadata": {
    "ein.tags": "worksheet-0",
    "slideshow": {
     "slide_type": "-"
    }
   },
   "source": [
    "- The Conv2D convolution layer in keras requires passing a numpy array of `width x height x channels` where channels might represent the red, green and blue channels of an image\n",
    "- We have black and white images so we'll just reshape it into the required form with\n",
    "  a single channel. \n",
    "- We plot the image just check show the shaping has been performed correctly."
   ]
  },
  {
   "cell_type": "code",
   "execution_count": 21,
   "metadata": {
    "autoscroll": false,
    "collapsed": false,
    "ein.tags": "worksheet-0",
    "slideshow": {
     "slide_type": "-"
    }
   },
   "outputs": [
    {
     "data": {
      "text/plain": [
       "<matplotlib.image.AxesImage at 0x11feae590>"
      ]
     },
     "execution_count": 21,
     "metadata": {},
     "output_type": "execute_result"
    },
    {
     "data": {
      "image/png": "[encoded data removed]",
      "text/plain": [
       "<matplotlib.figure.Figure at 0x11fb82f50>"
      ]
     },
     "metadata": {},
     "output_type": "display_data"
    }
   ],
   "source": [
    "x_train_dense = x_train.reshape((len(x_train), 28,28,1))\n",
    "x_test_dense = x_test.reshape((len(x_test), 28,28,1))\n",
    "\n",
    "plt.imshow(x_train_dense[0,:,:,0], cmap=\"gray\")"
   ]
  },
  {
   "cell_type": "markdown",
   "metadata": {
    "ein.tags": "worksheet-0",
    "slideshow": {
     "slide_type": "-"
    }
   },
   "source": [
    "- Now, lets create a model with a convolution layer `Conv2D`. \n",
    "- Generally, these will be stacked on top of each other with MaxPooling layers and learn\n",
    " edge detection at lower layers and higher level feature extraction in\n",
    " subsequent layers.\n",
    "- But just to show how to use them in keras, we'll\n",
    " just create one convolution layer with 32 fitlers, then flatten it\n",
    " into a 1D array and pass it into a Dense hidden layer before the\n",
    " output.\n",
    "- We can set the kernel_size (`m x n` size of the filter), and the number of filters used"
   ]
  },
  {
   "cell_type": "code",
   "execution_count": 22,
   "metadata": {
    "autoscroll": false,
    "collapsed": false,
    "ein.tags": "worksheet-0",
    "slideshow": {
     "slide_type": "-"
    }
   },
   "outputs": [],
   "source": [
    "model = Sequential()\n",
    "\n",
    "model.add(Conv2D(32, kernel_size=(3,3),input_shape=(28,28,1)))\n",
    "model.add(Activation('relu'))\n",
    "model.add(Flatten())\n",
    "model.add(Dense(128))\n",
    "model.add(Activation('sigmoid'))\n",
    "model.add(Dense(10))\n",
    "model.add(Activation('softmax'))\n",
    "\n",
    "model.compile(optimizer='adam', loss='categorical_crossentropy', metrics=['accuracy'])"
   ]
  },
  {
   "cell_type": "markdown",
   "metadata": {
    "ein.tags": "worksheet-0",
    "slideshow": {
     "slide_type": "-"
    }
   },
   "source": [
    "And train the model. This is already starting to get to the point where a GPU would be extremely helpful!"
   ]
  },
  {
   "cell_type": "code",
   "execution_count": 23,
   "metadata": {
    "autoscroll": false,
    "collapsed": false,
    "ein.tags": "worksheet-0",
    "slideshow": {
     "slide_type": "-"
    }
   },
   "outputs": [
    {
     "name": "stdout",
     "output_type": "stream",
     "text": [
      "Epoch 1/4\n",
      "60000/60000 [==============================] - 112s - loss: 0.4243 - acc: 0.8924   \n",
      "Epoch 2/4\n",
      "60000/60000 [==============================] - 114s - loss: 0.1477 - acc: 0.9569   \n",
      "Epoch 3/4\n",
      "60000/60000 [==============================] - 115s - loss: 0.1177 - acc: 0.9659   \n",
      "Epoch 4/4\n",
      "60000/60000 [==============================] - 116s - loss: 0.0982 - acc: 0.9710   \n"
     ]
    },
    {
     "data": {
      "text/plain": [
       "<keras.callbacks.History at 0x11ab19ed0>"
      ]
     },
     "execution_count": 23,
     "metadata": {},
     "output_type": "execute_result"
    }
   ],
   "source": [
    "model.fit(x_train_dense, y_train_enc, epochs=4, verbose=1)"
   ]
  },
  {
   "cell_type": "code",
   "execution_count": 19,
   "metadata": {
    "autoscroll": false,
    "collapsed": false,
    "ein.tags": "worksheet-0",
    "slideshow": {
     "slide_type": "-"
    }
   },
   "outputs": [
    {
     "name": "stdout",
     "output_type": "stream",
     "text": [
      "Loss=0.108\n",
      "Accuracy = 0.968\n"
     ]
    }
   ],
   "source": [
    "loss, accuracy = model.evaluate(x_test_dense, y_test_enc, verbose=0)\n",
    "print(\"Loss={:.3f}\\nAccuracy = {:.3f}\".format(loss, accuracy))"
   ]
  },
  {
   "cell_type": "markdown",
   "metadata": {
    "ein.tags": "worksheet-0",
    "slideshow": {
     "slide_type": "-"
    }
   },
   "source": [
    "# A convolution GAN\n",
    "\n",
    "This trains two adverserial networks, one trying to create images\n",
    "equivalent to the MNIST dataset, the other trying to label the images\n",
    "as either from the dataset or generated by the opposing network.\n",
    "\n",
    "References:\n",
    "- For more on GANs and their uses: https://arxiv.org/pdf/1701.00160.pdf\n",
    "- Code based on: https://github.com/jacobgil/keras-dcgan\n",
    "- Some tricks for training GANs https://github.com/soumith/ganhacks\n",
    "\n",
    "![GAN overview](Gan.png)"
   ]
  },
  {
   "cell_type": "markdown",
   "metadata": {
    "ein.tags": "worksheet-0",
    "slideshow": {
     "slide_type": "-"
    }
   },
   "source": [
    "We start with the image generation network, which is essentially a\n",
    "image classifier in reverse. The top layer is for high-level feature\n",
    "inputs which we'll randomly set during the training. We\n",
    "then pass through Dense layers and then reshape into a `7 x 7 x channels`\n",
    "image-style layer. We upsample and pass through convolutional filters\n",
    "(which should here be adding features rather than finding features as\n",
    "in the image classifier) until the last layer which outputs a `28x28x1`\n",
    "image as expected of an MNIST greyscale image."
   ]
  },
  {
   "cell_type": "code",
   "execution_count": 33,
   "metadata": {
    "autoscroll": false,
    "collapsed": false,
    "ein.tags": "worksheet-0",
    "slideshow": {
     "slide_type": "-"
    }
   },
   "outputs": [],
   "source": [
    "nfeatures = 100\n",
    "\n",
    "generate = Sequential()\n",
    "generate.add(Dense(1024, input_dim=nfeatures))\n",
    "generate.add(Activation('tanh'))\n",
    "generate.add(Dense(128*7*7))\n",
    "generate.add(BatchNormalization())\n",
    "generate.add(Activation('tanh'))\n",
    "generate.add(Reshape((7, 7, 128)))\n",
    "generate.add(UpSampling2D(size=(2,2)))\n",
    "generate.add(Conv2D(64, (5,5), padding='same'))\n",
    "generate.add(Activation('tanh'))\n",
    "generate.add(UpSampling2D(size=(2,2)))\n",
    "generate.add(Conv2D(1, (5, 5), padding='same'))\n",
    "generate.add(Activation('sigmoid'))\n",
    "generate.compile(loss=\"binary_crossentropy\", optimizer=\"SGD\")"
   ]
  },
  {
   "cell_type": "markdown",
   "metadata": {
    "ein.tags": "worksheet-0",
    "slideshow": {
     "slide_type": "-"
    }
   },
   "source": [
    "Now, just to check everythings put together properly, randomly pass\n",
    "some data through the network and check we get image outputs as\n",
    "expected."
   ]
  },
  {
   "cell_type": "code",
   "execution_count": 34,
   "metadata": {
    "autoscroll": false,
    "collapsed": false,
    "ein.tags": "worksheet-0",
    "slideshow": {
     "slide_type": "-"
    }
   },
   "outputs": [
    {
     "data": {
      "text/plain": [
       "((28, 28, 1), 0.49522883)"
      ]
     },
     "execution_count": 34,
     "metadata": {},
     "output_type": "execute_result"
    },
    {
     "data": {
      "image/png": "[encoded data removed]",
      "text/plain": [
       "<matplotlib.figure.Figure at 0x126c09790>"
      ]
     },
     "metadata": {},
     "output_type": "display_data"
    }
   ],
   "source": [
    "nim = 25\n",
    "pred = generate.predict(np.random.uniform(0, 1, (nim,nfeatures)))\n",
    "\n",
    "for i in xrange(nim):\n",
    "    plt.subplot(np.sqrt(nim),np.sqrt(nim),i+1)\n",
    "    plt.imshow(pred[i,:,:,0], cmap='gray')\n",
    "    \n",
    "pred[0].shape, np.average(pred[0])"
   ]
  },
  {
   "cell_type": "markdown",
   "metadata": {
    "ein.tags": "worksheet-0",
    "slideshow": {
     "slide_type": "-"
    }
   },
   "source": [
    "Next, we create the discriminating network. As for classification, we\n",
    "have a convolutional layer attached to Dense layers with a single\n",
    "sigmoid output, with 0 representing a generated image, and 1 a real\n",
    "MNIST dataset image."
   ]
  },
  {
   "cell_type": "code",
   "execution_count": 35,
   "metadata": {
    "autoscroll": false,
    "collapsed": false,
    "ein.tags": "worksheet-0",
    "slideshow": {
     "slide_type": "-"
    }
   },
   "outputs": [],
   "source": [
    "discr = Sequential()\n",
    "discr.add(Conv2D(64, (5,5), input_shape=(28,28,1), padding='same'))\n",
    "discr.add(Activation('tanh'))\n",
    "discr.add(MaxPooling2D((2,2)))\n",
    "discr.add(Conv2D(128, (5,5)))\n",
    "discr.add(Activation('tanh'))\n",
    "discr.add(MaxPooling2D((2,2)))\n",
    "discr.add(Dropout(0.5))\n",
    "discr.add(Flatten())\n",
    "discr.add(Dense(1024))\n",
    "discr.add(Activation('tanh'))\n",
    "discr.add(Dense(1))\n",
    "discr.add(Activation('sigmoid'))\n",
    "discr.compile(loss='binary_crossentropy', optimizer=SGD(lr=0.0005, momentum=0.9, nesterov=True))"
   ]
  },
  {
   "cell_type": "markdown",
   "metadata": {
    "ein.tags": "worksheet-0",
    "slideshow": {
     "slide_type": "-"
    }
   },
   "source": [
    "Test the network with a few MNIST images and some random images. Since\n",
    "the network isn't trained we don't yet expect any differences in the\n",
    "output."
   ]
  },
  {
   "cell_type": "code",
   "execution_count": 36,
   "metadata": {
    "autoscroll": false,
    "collapsed": false,
    "ein.tags": "worksheet-0",
    "slideshow": {
     "slide_type": "-"
    }
   },
   "outputs": [
    {
     "data": {
      "text/plain": [
       "array([[ 0.48355624],\n",
       "       [ 0.49296808],\n",
       "       [ 0.49187601],\n",
       "       [ 0.50517887],\n",
       "       [ 0.51067108],\n",
       "       [ 0.51988107],\n",
       "       [ 0.50302899],\n",
       "       [ 0.51929015],\n",
       "       [ 0.52268857],\n",
       "       [ 0.51356256]], dtype=float32)"
      ]
     },
     "execution_count": 36,
     "metadata": {},
     "output_type": "execute_result"
    }
   ],
   "source": [
    "x_prepred = np.concatenate([x_train[:5,:,:].reshape(5,28,28,1) / 256., \n",
    "                            np.random.uniform(0, 1, (5, 28, 28, 1))], axis=0)\n",
    "discr.predict(x_prepred)"
   ]
  },
  {
   "cell_type": "markdown",
   "metadata": {
    "ein.tags": "worksheet-0",
    "slideshow": {
     "slide_type": "-"
    }
   },
   "source": [
    "Now we set up a network which will be used to train the generation\n",
    "network. Keras allows us to simply add the models we just created\n",
    "together into a Sequential like they were ordinary layers. So, we feed\n",
    "the generator output into the discriminator input and set up an\n",
    "optimizer which will try to drive the generator to produce MNIST-like\n",
    "images (i.e. to fool the discriminator). Keras allows us to turn layer\n",
    "training on and off through the \"trainable\" variable attached to a\n",
    "layer, so when we train the generator we can easily turn training for\n",
    "the discriminator off."
   ]
  },
  {
   "cell_type": "code",
   "execution_count": 37,
   "metadata": {
    "autoscroll": false,
    "collapsed": false,
    "ein.tags": "worksheet-0",
    "slideshow": {
     "slide_type": "-"
    }
   },
   "outputs": [],
   "source": [
    "gen_discr = Sequential()\n",
    "gen_discr.add(generate)\n",
    "discr.trainable = False\n",
    "gen_discr.add(discr)\n",
    "gen_discr.compile(loss='binary_crossentropy', optimizer=SGD(lr=0.0005, momentum=0.9, nesterov=True),\n",
    "                  # optimizer='adam',\n",
    "                  metrics=['accuracy'])\n",
    "discr.trainable = True"
   ]
  },
  {
   "cell_type": "markdown",
   "metadata": {
    "ein.tags": "worksheet-0",
    "slideshow": {
     "slide_type": "-"
    }
   },
   "source": [
    "And finally, we have the actual training. Here, we setup the batches\n",
    "ourselves and alternate between training the discriminator and\n",
    "generator. We start by taking a batch of MNIST images (labeled 1), and\n",
    "generator images (labeled 0) and run a training batch on the\n",
    "discriminator network. Then, we turn off training off the\n",
    "discriminator and run training on the generator+discriminator network\n",
    "with random high-level feature inputs to the generator. We try to\n",
    "drive all the outputs to 1, i.e. train the generator to more\n",
    "MNIST-like images (as according to the discriminator network)."
   ]
  },
  {
   "cell_type": "code",
   "execution_count": 24,
   "metadata": {
    "autoscroll": false,
    "collapsed": false,
    "ein.tags": "worksheet-0",
    "slideshow": {
     "slide_type": "-"
    }
   },
   "outputs": [
    {
     "name": "stdout",
     "output_type": "stream",
     "text": [
      "Epoch 0\n"
     ]
    },
    {
     "ename": "NameError",
     "evalue": "name 'discr' is not defined",
     "output_type": "error",
     "traceback": [
      "\u001b[0;31m\u001b[0m",
      "\u001b[0;31mNameError\u001b[0mTraceback (most recent call last)",
      "\u001b[0;32m<ipython-input-24-dea43f4a4151>\u001b[0m in \u001b[0;36m<module>\u001b[0;34m()\u001b[0m\n\u001b[1;32m     12\u001b[0m \u001b[0;32mfor\u001b[0m \u001b[0mepoch\u001b[0m \u001b[0;32min\u001b[0m \u001b[0mxrange\u001b[0m\u001b[0;34m(\u001b[0m\u001b[0mn_epochs\u001b[0m\u001b[0;34m)\u001b[0m\u001b[0;34m:\u001b[0m\u001b[0;34m\u001b[0m\u001b[0m\n\u001b[1;32m     13\u001b[0m     \u001b[0;32mprint\u001b[0m \u001b[0;34m\"Epoch\"\u001b[0m\u001b[0;34m,\u001b[0m \u001b[0mepoch\u001b[0m\u001b[0;34m\u001b[0m\u001b[0m\n\u001b[0;32m---> 14\u001b[0;31m     \u001b[0mdiscr\u001b[0m\u001b[0;34m.\u001b[0m\u001b[0msave\u001b[0m\u001b[0;34m(\u001b[0m\u001b[0mos\u001b[0m\u001b[0;34m.\u001b[0m\u001b[0mgetenv\u001b[0m\u001b[0;34m(\u001b[0m\u001b[0;34m\"HOME\"\u001b[0m\u001b[0;34m)\u001b[0m\u001b[0;34m+\u001b[0m\u001b[0;34m\"/discr-\"\u001b[0m\u001b[0;34m+\u001b[0m\u001b[0mstr\u001b[0m\u001b[0;34m(\u001b[0m\u001b[0mepoch\u001b[0m\u001b[0;34m)\u001b[0m\u001b[0;34m)\u001b[0m\u001b[0;34m\u001b[0m\u001b[0m\n\u001b[0m\u001b[1;32m     15\u001b[0m     \u001b[0mgenerate\u001b[0m\u001b[0;34m.\u001b[0m\u001b[0msave\u001b[0m\u001b[0;34m(\u001b[0m\u001b[0mos\u001b[0m\u001b[0;34m.\u001b[0m\u001b[0mgetenv\u001b[0m\u001b[0;34m(\u001b[0m\u001b[0;34m\"HOME\"\u001b[0m\u001b[0;34m)\u001b[0m\u001b[0;34m+\u001b[0m\u001b[0;34m\"/generate-\"\u001b[0m\u001b[0;34m+\u001b[0m\u001b[0mstr\u001b[0m\u001b[0;34m(\u001b[0m\u001b[0mepoch\u001b[0m\u001b[0;34m)\u001b[0m\u001b[0;34m)\u001b[0m\u001b[0;34m\u001b[0m\u001b[0m\n\u001b[1;32m     16\u001b[0m     \u001b[0;32mfor\u001b[0m \u001b[0mi\u001b[0m \u001b[0;32min\u001b[0m \u001b[0mxrange\u001b[0m\u001b[0;34m(\u001b[0m\u001b[0;36m0\u001b[0m\u001b[0;34m,\u001b[0m \u001b[0mlen\u001b[0m\u001b[0;34m(\u001b[0m\u001b[0mx_train\u001b[0m\u001b[0;34m)\u001b[0m\u001b[0;34m,\u001b[0m \u001b[0mbatch_size\u001b[0m\u001b[0;34m)\u001b[0m\u001b[0;34m:\u001b[0m\u001b[0;34m\u001b[0m\u001b[0m\n",
      "\u001b[0;31mNameError\u001b[0m: name 'discr' is not defined"
     ]
    }
   ],
   "source": [
    "batch_size = 100\n",
    "n_epochs = 10\n",
    "print_every_nth_epoch = 50\n",
    "x_tru_all = x_train.reshape(len(x_train), 28, 28, 1) / 256.\n",
    "\n",
    "zeros = np.array([0]*batch_size)\n",
    "ones = np.array([1]*batch_size)\n",
    "oneszeros = np.array([1]*batch_size + [0]*batch_size)\n",
    "\n",
    "losses_d = []\n",
    "losses_g = []\n",
    "for epoch in xrange(n_epochs):\n",
    "    print \"Epoch\", epoch\n",
    "    discr.save(os.getenv(\"HOME\")+\"/discr-\"+str(epoch))\n",
    "    generate.save(os.getenv(\"HOME\")+\"/generate-\"+str(epoch))\n",
    "    for i in xrange(0, len(x_train), batch_size):\n",
    "        x_gen = generate.predict(np.random.uniform(0, 1, (batch_size, nfeatures)))\n",
    "        x_tru = x_tru_all[i:i+batch_size]\n",
    "        discr.trainable=True\n",
    "        loss_d = discr.train_on_batch(np.concatenate([x_tru, x_gen], axis=0), oneszeros)\n",
    "        discr.trainable=False\n",
    "        loss_g = gen_discr.train_on_batch(np.random.uniform(0, 1, (batch_size, nfeatures)), ones)\n",
    "        if i % (print_every_nth_epoch*batch_size) == 0:\n",
    "            print i / batch_size, \"discr\", loss_d, \"--\", \"gen\", loss_g[0], \"( acc.\", loss_g[1], \")\"\n",
    "        losses_g.append(loss_g)\n",
    "        losses_d.append(loss_d)\n"
   ]
  },
  {
   "cell_type": "markdown",
   "metadata": {
    "ein.tags": "worksheet-0",
    "slideshow": {
     "slide_type": "-"
    }
   },
   "source": [
    "After running the training, we can see what the output of the\n",
    "generator network looks like. If you run the training step a couple of\n",
    "times (which will take a long time on the CPU), it should begin to\n",
    "look like handwritten numbers!"
   ]
  },
  {
   "cell_type": "code",
   "execution_count": 32,
   "metadata": {
    "autoscroll": false,
    "collapsed": false,
    "ein.tags": "worksheet-0",
    "slideshow": {
     "slide_type": "-"
    }
   },
   "outputs": [
    {
     "name": "stdout",
     "output_type": "stream",
     "text": [
      "0.372346 0.347832 0.341593 0.350618 0.350911 0.346069 0.359488 0.348753 0.343799 0.361394 0.357993 0.353297 0.374008 0.344455 0.364969 0.372125\n"
     ]
    },
    {
     "data": {
      "image/png": "[encoded data removed]",
      "text/plain": [
       "<matplotlib.figure.Figure at 0x11a00ae10>"
      ]
     },
     "metadata": {},
     "output_type": "display_data"
    }
   ],
   "source": [
    "n = 4\n",
    "for x in xrange(n):\n",
    "    for y in xrange(n):\n",
    "        plt.subplot(n, n, x*n+y+1)\n",
    "        pred = generate.predict(np.random.uniform(0,1,(1,nfeatures)))\n",
    "        plt.imshow(pred[0,:,:,0], cmap='gray')\n",
    "        print discr.predict(pred)[0][0],\n"
   ]
  },
  {
   "cell_type": "code",
   "execution_count": null,
   "metadata": {
    "autoscroll": false,
    "collapsed": false,
    "ein.tags": "worksheet-0",
    "slideshow": {
     "slide_type": "-"
    }
   },
   "outputs": [],
   "source": [
    "discr_m = keras.models.load_model(os.getenv(\"HOME\")+\"/discr-\"+str(epoch))"
   ]
  },
  {
   "cell_type": "markdown",
   "metadata": {
    "autoscroll": false,
    "ein.tags": "worksheet-0",
    "slideshow": {
     "slide_type": "-"
    }
   },
   "source": [
    "Example Outputs after 3 epochs:\n",
    "\n",
    "![EG1](3_0.png)\n",
    "![EG2](3_380.png)\n",
    "\n",
    "From the above github repo after many epochs and picking the nicest images\n",
    "\n",
    "![nice](nice_generated_image.png)\n",
    "\n",
    "# End\n",
    "\n",
    "That's it for today, enjoy deep learning!"
   ]
  },
  {
   "cell_type": "code",
   "execution_count": null,
   "metadata": {
    "autoscroll": false,
    "collapsed": false,
    "ein.tags": "worksheet-0",
    "slideshow": {
     "slide_type": "-"
    }
   },
   "outputs": [],
   "source": []
  }
 ],
 "metadata": {
  "kernelspec": {
   "display_name": "Python 2",
   "name": "python2"
  },
  "language_info": {
   "codemirror_mode": {
    "name": "ipython",
    "version": 2
   },
   "file_extension": ".py",
   "mimetype": "text/x-python",
   "name": "python",
   "nbconvert_exporter": "python",
   "pygments_lexer": "ipython2",
   "version": "2.7.13"
  },
  "name": "Keras-Tutorial-20170908.ipynb"
 },
 "nbformat": 4,
 "nbformat_minor": 2
}
